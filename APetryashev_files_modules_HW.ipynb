{
 "cells": [
  {
   "cell_type": "markdown",
   "metadata": {},
   "source": [
    "### Домашнее задание к лекции \"Работа с файловой системой и модули\"\n",
    "А.Петряшев (DS-28)"
   ]
  },
  {
   "cell_type": "markdown",
   "metadata": {},
   "source": [
    "Задание 1.\n",
    "\n",
    "Переведите содержимое файла purchase_log.txt в словарь purchases вида:\n",
    "{‘1840e0b9d4’: ‘Продукты’, …}"
   ]
  },
  {
   "cell_type": "code",
   "execution_count": 93,
   "metadata": {},
   "outputs": [],
   "source": [
    "import json"
   ]
  },
  {
   "cell_type": "code",
   "execution_count": 97,
   "metadata": {},
   "outputs": [],
   "source": [
    "purch = open('purchase_log.txt', 'r', encoding='utf-8') "
   ]
  },
  {
   "cell_type": "code",
   "execution_count": 98,
   "metadata": {},
   "outputs": [],
   "source": [
    "all_lines = purch.readlines() #все содержимое файла помещается в переменную\n",
    "purch.close()"
   ]
  },
  {
   "cell_type": "code",
   "execution_count": 147,
   "metadata": {
    "scrolled": true
   },
   "outputs": [],
   "source": [
    "purchases= {}\n",
    "for j, line in enumerate(all_lines):\n",
    "    \n",
    "    line = line.strip() \n",
    "    dict_line = json.loads(line)\n",
    "    \n",
    "    purchases[dict_line['user_id']] = dict_line['category']\n",
    "    "
   ]
  },
  {
   "cell_type": "markdown",
   "metadata": {},
   "source": [
    "альтернативный вариант"
   ]
  },
  {
   "cell_type": "code",
   "execution_count": 115,
   "metadata": {},
   "outputs": [
    {
     "data": {
      "text/plain": [
       "{'user_id': 'category',\n",
       " '1840e0b9d4': 'Продукты',\n",
       " '4e4f90fcfb': 'Электроника',\n",
       " 'afea8d72fc': 'Электроника',\n",
       " '373a6055fe': 'Бытовая техника',\n",
       " '9b2ab046f3': 'Электроника',\n",
       " '9f39d307c3': 'Электроника'}"
      ]
     },
     "execution_count": 115,
     "metadata": {},
     "output_type": "execute_result"
    }
   ],
   "source": [
    "purchases= {}\n",
    "with open ('purchase_log.txt', 'r', encoding='utf-8') as file:\n",
    "    for j, line in enumerate(file):\n",
    "        line = line.strip() \n",
    "        dict_line = json.loads(line)\n",
    "    \n",
    "        purchases[dict_line['user_id']] = dict_line['category']\n",
    "    \n",
    "        if j >5:\n",
    "            break\n",
    "purchases\n",
    "        "
   ]
  },
  {
   "cell_type": "markdown",
   "metadata": {},
   "source": [
    "Задание 2.\n",
    "\n",
    "Для каждого user_id в файле visit_log.csv определите третий столбец с категорией покупки (если покупка была, сам файл visit_log.csv изменять не надо). Запишите в файл funnel.csv визиты из файла visit_log.csv, в которых были покупки с указанием категории."
   ]
  },
  {
   "cell_type": "code",
   "execution_count": 176,
   "metadata": {},
   "outputs": [],
   "source": [
    "\n",
    "with open('visit_log.csv', 'r') as visits:\n",
    "    with open('funnel.csv', 'w') as visits_write:\n",
    "        \n",
    "        for line in visits:\n",
    "                    \n",
    "            if line.strip().split(',')[0] in purchases:\n",
    "                \n",
    "                new_line = line.strip() + ',' + purchases[line.strip().split(',')[0]]\n",
    "                visits_write.write(new_line + '\\n')\n",
    "                "
   ]
  },
  {
   "cell_type": "code",
   "execution_count": 177,
   "metadata": {},
   "outputs": [
    {
     "data": {
      "text/plain": [
       "['user_id,source,category\\n',\n",
       " '1840e0b9d4,other,Продукты\\n',\n",
       " '4e4f90fcfb,context,Электроника\\n',\n",
       " 'afea8d72fc,other,Электроника\\n',\n",
       " '2824221f38,email,Продукты\\n',\n",
       " '373a6055fe,other,Бытовая техника\\n',\n",
       " '9b2ab046f3,other,Электроника\\n',\n",
       " '9f39d307c3,context,Электроника\\n',\n",
       " '44edeffc91,context,Продукты\\n',\n",
       " '704474fa2d,other,Продукты\\n']"
      ]
     },
     "execution_count": 177,
     "metadata": {},
     "output_type": "execute_result"
    }
   ],
   "source": [
    "h = open('funnel.csv', 'r')\n",
    "content = h.readlines()\n",
    "content[:10]"
   ]
  },
  {
   "cell_type": "code",
   "execution_count": null,
   "metadata": {},
   "outputs": [],
   "source": []
  }
 ],
 "metadata": {
  "kernelspec": {
   "display_name": "Python 3",
   "language": "python",
   "name": "python3"
  },
  "language_info": {
   "codemirror_mode": {
    "name": "ipython",
    "version": 3
   },
   "file_extension": ".py",
   "mimetype": "text/x-python",
   "name": "python",
   "nbconvert_exporter": "python",
   "pygments_lexer": "ipython3",
   "version": "3.8.5"
  }
 },
 "nbformat": 4,
 "nbformat_minor": 4
}
