{
 "cells": [
  {
   "cell_type": "markdown",
   "metadata": {},
   "source": [
    "### Домашнее задание к лекции \"Функции\"\n",
    "А.Петряшев (DS-28)"
   ]
  },
  {
   "cell_type": "code",
   "execution_count": 298,
   "metadata": {},
   "outputs": [],
   "source": [
    "documents = [\n",
    " {'type': 'passport', 'number': '2207 876234', 'name': 'Василий Гупкин'},\n",
    " {'type': 'invoice', 'number': '11-2', 'name': 'Геннадий Покемонов'},\n",
    " {'type': 'insurance', 'number': '10006', 'name': 'Аристарх Павлов'}\n",
    "]"
   ]
  },
  {
   "cell_type": "code",
   "execution_count": 299,
   "metadata": {},
   "outputs": [],
   "source": [
    "directories = {\n",
    " '1': ['2207 876234', '11-2'],\n",
    " '2': ['10006'],\n",
    " '3': []\n",
    "}"
   ]
  },
  {
   "cell_type": "markdown",
   "metadata": {},
   "source": [
    "Задание 1."
   ]
  },
  {
   "cell_type": "markdown",
   "metadata": {},
   "source": [
    "пункт 1.1."
   ]
  },
  {
   "cell_type": "code",
   "execution_count": 212,
   "metadata": {},
   "outputs": [
    {
     "name": "stdout",
     "output_type": "stream",
     "text": [
      "введите номер документа: 11-2\n",
      "Владелец документа: Геннадий Покемонов\n"
     ]
    }
   ],
   "source": [
    "def command_p(docs, shelves):\n",
    "    n = input('введите номер документа: ')\n",
    "    k = 'Документ не найден в базе'\n",
    "    for line in docs:\n",
    "        if n == line['number']:\n",
    "            k = 'Владелец документа: ' + line['name']    \n",
    "        else: pass\n",
    "    print(k)  \n",
    "command_p(documents, directories)"
   ]
  },
  {
   "cell_type": "markdown",
   "metadata": {},
   "source": [
    "пункт 1.2."
   ]
  },
  {
   "cell_type": "code",
   "execution_count": 210,
   "metadata": {},
   "outputs": [
    {
     "name": "stdout",
     "output_type": "stream",
     "text": [
      "введите номер документа: 12121\n",
      "Документ не найден в базе\n"
     ]
    }
   ],
   "source": [
    "def command_s(docs, shelves):\n",
    "    sh = input('введите номер документа: ')\n",
    "    ans = 'Документ не найден в базе'\n",
    "    for k, v in shelves.items():\n",
    "        if sh in v:\n",
    "            ans = 'Документ хранится на полке: ' + k\n",
    "        else: pass\n",
    "    print(ans)\n",
    "command_s(documents, directories)"
   ]
  },
  {
   "cell_type": "markdown",
   "metadata": {},
   "source": [
    "пункт 1.3."
   ]
  },
  {
   "cell_type": "code",
   "execution_count": 197,
   "metadata": {},
   "outputs": [
    {
     "name": "stdout",
     "output_type": "stream",
     "text": [
      "№:  2207 876234 , тип:  passport , владелец:  Василий Гупкин , полка хранения 1\n",
      "№:  11-2 , тип:  invoice , владелец:  Геннадий Покемонов , полка хранения 1\n",
      "№:  10006 , тип:  insurance , владелец:  Аристарх Павлов , полка хранения 2\n"
     ]
    }
   ],
   "source": [
    "def command_l(docs, shelves):\n",
    "    for st in docs:\n",
    "        for k, v in shelves.items():\n",
    "            if st['number'] in v:\n",
    "                print('№: ', st['number'], ',', 'тип: ', st['type'], ',', 'владелец: ', st['name'], ',', 'полка хранения', k)\n",
    "command_l(documents, directories)  "
   ]
  },
  {
   "cell_type": "markdown",
   "metadata": {},
   "source": [
    "пункт 1.4."
   ]
  },
  {
   "cell_type": "code",
   "execution_count": 199,
   "metadata": {},
   "outputs": [
    {
     "name": "stdout",
     "output_type": "stream",
     "text": [
      "введите номер полки: 3\n",
      "Такая полка уже существует. Текущий перечень полок:  1, 2, 3\n"
     ]
    }
   ],
   "source": [
    "def command_ads(docs, shelves):\n",
    "    add_sh = input('введите номер полки: ')\n",
    "\n",
    "    if add_sh in shelves:\n",
    "        print('Такая полка уже существует. Текущий перечень полок: ', end=' ')\n",
    "        sh_l = ', '.join(list(shelves.keys()))\n",
    "        print(sh_l)\n",
    "    else:\n",
    "        shelves.update({add_sh : []})\n",
    "        print('Текущий перечень полок: ', end=' ')\n",
    "        sh_l = ', '.join(list(shelves.keys()))\n",
    "        print(sh_l)\n",
    "command_ads(documents, directories)    "
   ]
  },
  {
   "cell_type": "markdown",
   "metadata": {},
   "source": [
    "пункт 1.5."
   ]
  },
  {
   "cell_type": "code",
   "execution_count": 161,
   "metadata": {
    "scrolled": true
   },
   "outputs": [],
   "source": [
    "def command_ds(docs, shelves):\n",
    "    del_sh = input('введите номер полки: ')\n",
    "    if del_sh in shelves and shelves[del_sh] != []:\n",
    "        print('На полке есть документы, удалите их перед удалением полки. Текущий перечень полок: ', end=' ')\n",
    "        sh_l = ', '.join(list(shelves.keys()))\n",
    "        print(sh_l)\n",
    "    elif del_sh in shelves and shelves[del_sh] == []:\n",
    "        print('Полка удалена. Текущий перечень полок: ', end=' ')\n",
    "        del shelves[del_sh]\n",
    "        sh_l = ', '.join(list(shelves.keys()))\n",
    "        print(sh_l)\n",
    "    else:\n",
    "        print('Такой полки не существует. Текущий перечень полок: ', end=' ')\n",
    "        sh_l = ', '.join(list(shelves.keys()))\n",
    "        print(sh_l)\n",
    "command_ds(documents, directories)        "
   ]
  },
  {
   "cell_type": "markdown",
   "metadata": {},
   "source": [
    "Задание 2."
   ]
  },
  {
   "cell_type": "markdown",
   "metadata": {},
   "source": [
    "пункт 2.1."
   ]
  },
  {
   "cell_type": "code",
   "execution_count": 190,
   "metadata": {
    "scrolled": false
   },
   "outputs": [
    {
     "name": "stdout",
     "output_type": "stream",
     "text": [
      "Введите номер документа: 23\n",
      "Введите тип документа: 23\n",
      "Введите владельца документа: 23\n",
      "Введите полку для хранения: 1\n",
      "Документ добавлен. Текущий список документов: \n",
      "№:  2207 876234 , тип:  passport , владелец:  Василий Гупкин , полка хранения 1\n",
      "№:  11-2 , тип:  invoice , владелец:  Геннадий Покемонов , полка хранения 1\n",
      "№:  10006 , тип:  insurance , владелец:  Аристарх Павлов , полка хранения 2\n",
      "№:  23 , тип:  23 , владелец:  23 , полка хранения 1\n"
     ]
    }
   ],
   "source": [
    "def command_ad(docs, shelves):\n",
    "    num = input('Введите номер документа: ')\n",
    "    typ = input('Введите тип документа: ')\n",
    "    name = input('Введите владельца документа: ')\n",
    "    shelf = input('Введите полку для хранения: ')\n",
    "    if shelf in shelves:\n",
    "        docs.append({'type' : typ, 'number' : num, 'name' : name})\n",
    "        shelves[shelf].append(num) \n",
    "        print('Документ добавлен. Текущий список документов: ')\n",
    "    else:\n",
    "        print('Такой полки не существует. Добавьте полку командой as.')\n",
    "    for st in docs:\n",
    "            for k, v in shelves.items():\n",
    "                if st['number'] in v:\n",
    "                    print('№: ', st['number'], ',', 'тип: ', st['type'], ',', 'владелец: ', st['name'], ',', 'полка хранения', k)\n",
    "command_ad(documents, directories)"
   ]
  },
  {
   "cell_type": "markdown",
   "metadata": {},
   "source": [
    "пункт 2.2."
   ]
  },
  {
   "cell_type": "code",
   "execution_count": 228,
   "metadata": {},
   "outputs": [
    {
     "name": "stdout",
     "output_type": "stream",
     "text": [
      "введите номер документа: 10006\n",
      "Документ удален.\n",
      "Текущий список документов: \n",
      "№:  2207 876234 , тип:  passport , владелец:  Василий Гупкин , полка хранения 1\n",
      "№:  11-2 , тип:  invoice , владелец:  Геннадий Покемонов , полка хранения 1\n",
      "{'1': ['2207 876234', '11-2'], '2': [], '3': []}\n"
     ]
    }
   ],
   "source": [
    "def command_d(docs, shelves):\n",
    "    n = input('введите номер документа: ')\n",
    "    ans = 'Документ не найден в базе'\n",
    "    j = -1\n",
    "    for line in docs:\n",
    "        j +=1\n",
    "        if n == line['number']:\n",
    "            docs.remove(docs[j])\n",
    "            ans = 'Документ удален.'\n",
    "        else: pass\n",
    "        \n",
    "    for k, v in shelves.items():\n",
    "        try:\n",
    "            v.remove(n)\n",
    "        except ValueError:\n",
    "            pass\n",
    "        \n",
    "    print(ans)\n",
    "    print('Текущий список документов: ')\n",
    "    for st in docs:\n",
    "            for k, v in shelves.items():\n",
    "                if st['number'] in v:\n",
    "                    print('№: ', st['number'], ',', 'тип: ', st['type'], ',', 'владелец: ', st['name'], ',', 'полка хранения', k)\n",
    "    #print(shelves)\n",
    "command_d(documents, directories)"
   ]
  },
  {
   "cell_type": "markdown",
   "metadata": {},
   "source": [
    "пункт 2.3."
   ]
  },
  {
   "cell_type": "code",
   "execution_count": 300,
   "metadata": {},
   "outputs": [
    {
     "name": "stdout",
     "output_type": "stream",
     "text": [
      "Введите номер документа: 11111\n",
      "Введите номер полки: 111\n",
      "Документ не найден в базе.\n",
      "Текущий список документов: \n",
      "№:  2207 876234 , тип:  passport , владелец:  Василий Гупкин , полка хранения 1\n",
      "№:  11-2 , тип:  invoice , владелец:  Геннадий Покемонов , полка хранения 1\n",
      "№:  10006 , тип:  insurance , владелец:  Аристарх Павлов , полка хранения 2\n"
     ]
    }
   ],
   "source": [
    "def command_m(docs, shelves):\n",
    "    num = input('Введите номер документа: ')\n",
    "    shelf = input('Введите номер полки: ') \n",
    "    ans = 'Документ не найден в базе.'\n",
    "    all_nums =[]\n",
    "    \n",
    "    for x in docs:\n",
    "        all_nums.append(x['number'])\n",
    "        \n",
    "    if num in all_nums:         \n",
    "        if shelf in shelves:\n",
    "            ans = 'Документ перемещен.'\n",
    "            for k, v in shelves.items():\n",
    "                try:\n",
    "                    v.remove(num)\n",
    "                except ValueError:\n",
    "                    pass\n",
    "            shelves[shelf].append(num)\n",
    "            print(ans)\n",
    "            print('Текущий список документов: ')\n",
    "            for st in docs:\n",
    "                for k, v in shelves.items():\n",
    "                    if st['number'] in v:\n",
    "                        print('№: ', st['number'], ',', 'тип: ', st['type'], ',', 'владелец: ', st['name'], ',', 'полка хранения', k)\n",
    "            \n",
    "        else:\n",
    "            ans = 'Такой полки не существует. Текущий перечень полок: '\n",
    "            sh_l = ', '.join(list(shelves.keys()))\n",
    "            print(ans, end = '')\n",
    "            print(sh_l)\n",
    "    else: \n",
    "        \n",
    "        print(ans)\n",
    "        print('Текущий список документов: ')\n",
    "        for st in docs:\n",
    "            for k, v in shelves.items():\n",
    "                if st['number'] in v:\n",
    "                    print('№: ', st['number'], ',', 'тип: ', st['type'], ',', 'владелец: ', st['name'], ',', 'полка хранения', k)\n",
    "\n",
    "command_m(documents, directories)"
   ]
  },
  {
   "cell_type": "code",
   "execution_count": null,
   "metadata": {},
   "outputs": [],
   "source": []
  },
  {
   "cell_type": "markdown",
   "metadata": {},
   "source": [
    "### Программа для автоматизации работы секретаря."
   ]
  },
  {
   "cell_type": "code",
   "execution_count": 301,
   "metadata": {},
   "outputs": [],
   "source": [
    "def auto_secretary(docs, shelves):\n",
    "    while True:\n",
    "        user_input = input('Введите команду: ')\n",
    "        if user_input == 'p':\n",
    "            command_p(docs, shelves)\n",
    "        elif user_input == 's':\n",
    "            command_s(docs, shelves)\n",
    "        elif user_input == 'l':\n",
    "            command_l(docs, shelves)\n",
    "        elif user_input == 'ads':\n",
    "            command_ads(docs, shelves)    \n",
    "        elif user_input == 'ds':\n",
    "            command_ds(docs, shelves)   \n",
    "        elif user_input == 'ad':\n",
    "            command_ad(docs, shelves)\n",
    "        elif user_input == 'd':\n",
    "            command_d(docs, shelves)\n",
    "        elif user_input == 'm':\n",
    "            command_m(docs, shelves)    \n",
    "        elif user_input == 'q':\n",
    "            print('Конец работы. До свидания!')\n",
    "            break"
   ]
  },
  {
   "cell_type": "code",
   "execution_count": 302,
   "metadata": {
    "scrolled": true
   },
   "outputs": [
    {
     "name": "stdout",
     "output_type": "stream",
     "text": [
      "Введите команду: m\n",
      "Введите номер документа: 12112\n",
      "Введите номер полки: 3\n",
      "Документ не найден в базе.\n",
      "Текущий список документов: \n",
      "№:  2207 876234 , тип:  passport , владелец:  Василий Гупкин , полка хранения 1\n",
      "№:  11-2 , тип:  invoice , владелец:  Геннадий Покемонов , полка хранения 1\n",
      "№:  10006 , тип:  insurance , владелец:  Аристарх Павлов , полка хранения 2\n",
      "Введите команду: q\n",
      "Конец работы. До свидания!\n"
     ]
    }
   ],
   "source": [
    "auto_secretary(documents, directories)"
   ]
  }
 ],
 "metadata": {
  "kernelspec": {
   "display_name": "Python 3",
   "language": "python",
   "name": "python3"
  },
  "language_info": {
   "codemirror_mode": {
    "name": "ipython",
    "version": 3
   },
   "file_extension": ".py",
   "mimetype": "text/x-python",
   "name": "python",
   "nbconvert_exporter": "python",
   "pygments_lexer": "ipython3",
   "version": "3.8.5"
  }
 },
 "nbformat": 4,
 "nbformat_minor": 4
}
