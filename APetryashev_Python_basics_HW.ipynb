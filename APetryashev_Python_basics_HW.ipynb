{
 "cells": [
  {
   "cell_type": "markdown",
   "metadata": {},
   "source": [
    "### Домашнее задание к лекции \"Основы Python\"\n",
    "А.Петряшев (DS-28)"
   ]
  },
  {
   "cell_type": "markdown",
   "metadata": {},
   "source": [
    "Задание 1\n",
    "Даны 2 переменных, в которых хранятся строки произвольной длины: phrase_1 и phrase_2.\n",
    "Напишите код, который проверяет какая из этих строк длиннее.\n",
    "\n",
    "phrase_1 = Насколько проще было бы писать программы, если бы не заказчики\n",
    "phrase_2 = 640Кб должно хватить для любых задач. Билл Гейтс (по легенде)\n"
   ]
  },
  {
   "cell_type": "code",
   "execution_count": 27,
   "metadata": {},
   "outputs": [
    {
     "name": "stdout",
     "output_type": "stream",
     "text": [
      "введите фразу 1: Насколько проще было бы писать программы, если бы не заказчики.\n",
      "введите фразу 2: 640Кб должно хватить для любых задач. Билл Гейтс (по легенде).\n",
      "Фраза 1 длиннее фразы 2\n"
     ]
    }
   ],
   "source": [
    "phrase_1 = input('введите фразу 1: ')\n",
    "phrase_2 = input('введите фразу 2: ')\n",
    "\n",
    "length_ph_1 = len(phrase_1)\n",
    "length_ph_2 = len(phrase_2)\n",
    "\n",
    "if length_ph_1 > length_ph_2:\n",
    "    print('Фраза 1 длиннее фразы 2')\n",
    "elif length_ph_1 < length_ph_2:\n",
    "    print('Фраза 2 длиннее фразы 1')\n",
    "elif length_ph_1 == length_ph_2:\n",
    "    print('Фразы равной длины')"
   ]
  },
  {
   "cell_type": "markdown",
   "metadata": {},
   "source": [
    "Задание 2\n",
    "Дана переменная, в которой хранится четырехзначное число (год). Необходимо написать программу, которая выведет, является ли данный год високосным или обычным."
   ]
  },
  {
   "cell_type": "code",
   "execution_count": 26,
   "metadata": {
    "scrolled": true
   },
   "outputs": [
    {
     "name": "stdout",
     "output_type": "stream",
     "text": [
      "Введите год: 2021\n",
      "Не високосный год\n"
     ]
    }
   ],
   "source": [
    "year = int(input('Введите год: '))\n",
    "if year % 4 == 0 and year % 100 != 0:\n",
    "    print('високосный год')\n",
    "elif year % 100 == 0 and year % 400 == 0:\n",
    "    print('високосный год')\n",
    "else:\n",
    "    print ('Не високосный год')"
   ]
  },
  {
   "cell_type": "markdown",
   "metadata": {},
   "source": [
    "Задание 3\n",
    "Необходимо написать программу, которая будет запрашивать у пользователя месяц и дату рождения и выводить соответствующий знак зодиака."
   ]
  },
  {
   "cell_type": "code",
   "execution_count": 87,
   "metadata": {},
   "outputs": [
    {
     "name": "stdout",
     "output_type": "stream",
     "text": [
      "Введите день рождения: 10\n",
      "Введите месяц рождения: ароа\n",
      "Неверный ввод. Попробуйте еще раз. Формат ввода - 1 Январь\n"
     ]
    }
   ],
   "source": [
    "date = int(input('Введите день рождения: '))\n",
    "month = input('Введите месяц рождения: ')\n",
    "\n",
    "if (date >= 21 and date <= 31 and month.lower() == 'март') or (month.lower() == 'апрель' and date >= 1 and date <= 19):\n",
    "    print(\"Овен\")\n",
    "elif (date >= 20 and date <= 30 and month.lower() == 'апрель') or (month.lower() == 'май' and date >= 1 and date <= 20):\n",
    "    print(\"Телец\")\n",
    "elif (date >= 21 and date <= 31 and month.lower() == 'май') or (month.lower() == 'июнь' and date >= 1 and date <= 21):\n",
    "    print(\"Близнецы\")\n",
    "elif (date >= 22 and date <= 30 and month.lower() == 'июнь') or (month.lower() == 'июль' and date >= 1 and date <= 22):\n",
    "    print(\"Рак\")\n",
    "elif (date >= 23 and date <= 31 and month.lower() == 'июль') or (month.lower() == 'август' and date >= 1 and date <= 22):\n",
    "    print(\"Лев\")\n",
    "elif (date >= 23 and date <= 31 and month.lower() == 'август') or(month.lower() == 'сентябрь' and date >= 1 and date <= 22):\n",
    "    print(\"Дева\")\n",
    "elif (date >= 23 and date <= 30 and month.lower() == 'сентябрь') or(month.lower() == 'октябрь' and date>=1 and date<=23):\n",
    "    print(\"Весы\")\n",
    "elif (date >= 24 and date <= 31 and month.lower() == 'октябрь') or(month.lower() == 'ноябрь' and date >= 1 and date <= 22):\n",
    "    print(\"Скорпион\")\n",
    "elif (date >= 23 and date <= 30 and month.lower() == 'ноябрь') or( month.lower() == 'декабрь' and date >= 1 and date <= 21):\n",
    "    print(\"Стрелец\")\n",
    "elif (date >= 22 and date <= 31 and month.lower() == 'декабрь') or( month.lower() == 'январь' and date >= 1 and date <= 20):\n",
    "    print(\"Козерог\")\n",
    "elif (date >= 21 and date <= 31 and month.lower() == 'январь') or( month.lower() == 'февраль' and date >= 1 and date <= 18):\n",
    "    print(\"Водолей\")\n",
    "elif (date >= 19 and date <= 29 and month.lower() == 'февраль') or( month.lower() == 'март' and date >= 1 and date <= 20):\n",
    "    print(\"Рыбы\")\n",
    "else:\n",
    "    print('Неверный ввод. Попробуйте еще раз. Формат ввода - 1 Январь')"
   ]
  },
  {
   "cell_type": "markdown",
   "metadata": {},
   "source": [
    "Задание 4\n",
    "Вам нужно написать программу для подбора упаковок по размерам товара. Размеры (ширина, длина, высота) хранятся в переменных (в сантиметрах):"
   ]
  },
  {
   "cell_type": "code",
   "execution_count": 109,
   "metadata": {
    "scrolled": true
   },
   "outputs": [
    {
     "name": "stdout",
     "output_type": "stream",
     "text": [
      "введите ширину: 67\n",
      "введите длину: 200\n",
      "введите высоту: 4\n",
      "Нужна упаковка для лыж\n"
     ]
    }
   ],
   "source": [
    "width = int(input('введите ширину: '))\n",
    "length = int(input('введите длину: '))\n",
    "height = int(input('введите высоту: '))\n",
    "\n",
    "if width < 15 and length < 15 and height < 15:\n",
    "    print('Стандартная коробка №1')\n",
    "elif length >= 200:\n",
    "    print('Нужна упаковка для лыж')\n",
    "elif width < 50 and length < 50 and height < 50:\n",
    "    print('Стандартная коробка №2')\n",
    "else:\n",
    "    print('Стандартная коробка №3')"
   ]
  },
  {
   "cell_type": "markdown",
   "metadata": {},
   "source": [
    "Задание 5 (необязательное)\n",
    "Дана переменная, в которой хранится шестизначное число (номер проездного билета). Напишите программу, которая будет определять, является ли данный билет \"счастливым\". Билет считается счастливым, если сумма первых трех цифр совпадает с суммой последних трех цифр номера.\n"
   ]
  },
  {
   "cell_type": "code",
   "execution_count": 112,
   "metadata": {},
   "outputs": [
    {
     "name": "stdout",
     "output_type": "stream",
     "text": [
      "Введите номер билета, 6 цифр: 345984\n",
      "Несчастливый билетик\n"
     ]
    }
   ],
   "source": [
    "num = int(input('Введите номер билета, 6 цифр: '))\n",
    "\n",
    "x = str(num)\n",
    "\n",
    "sum_1 = int(x[0]) + int(x[1]) + int(x[2])\n",
    "sum_2 = int(x[-1]) +int(x[-2]) + int(x[-3])\n",
    "num_cor = len(x)\n",
    "\n",
    "if num_cor == 6:\n",
    "\n",
    "    if sum_1 == sum_2:\n",
    "        print('Счастливый билетик')\n",
    "    else:\n",
    "        print('Несчастливый билетик')\n",
    "        \n",
    "else:\n",
    "    print('Введено не шестизначное число')"
   ]
  },
  {
   "cell_type": "markdown",
   "metadata": {},
   "source": [
    "Задание 6 (необязательное)\n",
    "\n",
    "Напишите программу, которая сможет вычислять площади трех фигур (круг, треугольник и прямоугольник). Тип фигуры запрашиваем через пользовательский ввод, после чего делаем запрос характеристик фигуры:\n",
    "\n",
    "если пользователь выбрал круг, запрашиваем его радиус,\n",
    "\n",
    "если треугольник – длины трех его сторон;\n",
    "\n",
    "если прямоугольник – длины двух его сторон."
   ]
  },
  {
   "cell_type": "code",
   "execution_count": 116,
   "metadata": {},
   "outputs": [
    {
     "name": "stdout",
     "output_type": "stream",
     "text": [
      "Выберите фигуру: круг, треугольник, прямоугольник - urrtu\n",
      "неправильный ввод фигуры\n"
     ]
    }
   ],
   "source": [
    "figure = input('Выберите фигуру: круг, треугольник, прямоугольник - ')\n",
    "\n",
    "if figure.lower() == 'круг':\n",
    "    r = int(input('введите радиус: '))\n",
    "    sqrt = 3.14 * r**2\n",
    "    print('площадь: ', sqrt)\n",
    "    \n",
    "elif figure.lower() == 'треугольник':\n",
    "    a = int(input('введите основание: '))\n",
    "    h = int(input('введите высоту: '))\n",
    "    sqrt = (a * h) / 2\n",
    "    print('площадь: ', sqrt)\n",
    "    \n",
    "elif figure.lower() == 'прямоугольник':\n",
    "    b = int(input('введите сторону b: '))\n",
    "    c = int(input('введите сторону c: '))\n",
    "    sqrt = b * c\n",
    "    print('площадь: ', sqrt)\n",
    "    \n",
    "else:\n",
    "    print('неправильный ввод фигуры')"
   ]
  },
  {
   "cell_type": "code",
   "execution_count": null,
   "metadata": {},
   "outputs": [],
   "source": []
  },
  {
   "cell_type": "code",
   "execution_count": null,
   "metadata": {},
   "outputs": [],
   "source": []
  }
 ],
 "metadata": {
  "kernelspec": {
   "display_name": "Python 3",
   "language": "python",
   "name": "python3"
  },
  "language_info": {
   "codemirror_mode": {
    "name": "ipython",
    "version": 3
   },
   "file_extension": ".py",
   "mimetype": "text/x-python",
   "name": "python",
   "nbconvert_exporter": "python",
   "pygments_lexer": "ipython3",
   "version": "3.8.5"
  }
 },
 "nbformat": 4,
 "nbformat_minor": 4
}
