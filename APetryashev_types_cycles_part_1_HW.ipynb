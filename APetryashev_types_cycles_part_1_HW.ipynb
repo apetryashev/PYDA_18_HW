{
 "cells": [
  {
   "cell_type": "markdown",
   "metadata": {},
   "source": [
    "### Домашнее задание к лекции \"Введение в типы данных и циклы. Часть 1\"\n",
    "А.Петряшев (DS-28)"
   ]
  },
  {
   "cell_type": "markdown",
   "metadata": {},
   "source": [
    "Задание 1\n",
    "Дана переменная, в которой хранится слово из латинских букв. Напишите код, который выводит на экран:\n",
    "\n",
    "среднюю букву, если число букв в слове нечетное;\n",
    "две средних буквы, если число букв четное."
   ]
  },
  {
   "cell_type": "code",
   "execution_count": 329,
   "metadata": {},
   "outputs": [
    {
     "name": "stdout",
     "output_type": "stream",
     "text": [
      "введите слово: test\n",
      "Результат: \n",
      " es\n"
     ]
    }
   ],
   "source": [
    "word = input('Введите слово: ')\n",
    "num = len(word)\n",
    "if num % 2 == 0:\n",
    "    print('Результат: \\n', word[int(num / 2 - 1): int(num / 2 + 1)])\n",
    "else:\n",
    "    print('Результат: \\n', word[int(num // 2)])\n"
   ]
  },
  {
   "cell_type": "markdown",
   "metadata": {},
   "source": [
    "Задание 2\n",
    "Напишите программу, которая последовательно запрашивает у пользователя числа (по одному за раз) и после первого нуля выводит сумму всех ранее введенных чисел.\n"
   ]
  },
  {
   "cell_type": "code",
   "execution_count": 327,
   "metadata": {},
   "outputs": [
    {
     "name": "stdout",
     "output_type": "stream",
     "text": [
      "0\n",
      "Результат: \n",
      "сумма:  0\n"
     ]
    }
   ],
   "source": [
    "summa = 0\n",
    "while True:\n",
    "    n = int(input())\n",
    "    summa +=n\n",
    "    if n == 0:\n",
    "        print('Результат: \\n''сумма: ', summa)\n",
    "        break\n",
    "        \n"
   ]
  },
  {
   "cell_type": "markdown",
   "metadata": {},
   "source": [
    "Задание 3\n",
    "Мы делаем MVP dating-сервиса, и у нас есть список парней и девушек.\n",
    "Выдвигаем гипотезу: лучшие рекомендации мы получим, если просто отсортируем имена по алфавиту и познакомим людей с одинаковыми индексами после сортировки! \n",
    "Но мы не будем никого знакомить, если кто-то может остаться без пары.\n"
   ]
  },
  {
   "cell_type": "code",
   "execution_count": 44,
   "metadata": {},
   "outputs": [
    {
     "name": "stdout",
     "output_type": "stream",
     "text": [
      "Идеальные пары: \n",
      "Alex and Emma\n",
      "Arthur and Kate\n",
      "John and Kira\n",
      "Peter and Liza\n",
      "Richard and Trisha\n"
     ]
    }
   ],
   "source": [
    "boys = ['Peter', 'Alex', 'John', 'Arthur', 'Richard']\n",
    "girls = ['Kate', 'Liza', 'Kira', 'Emma', 'Trisha']\n",
    "\n",
    "boys.sort()\n",
    "girls.sort()\n",
    "i = 0\n",
    "if len(boys) == len(girls):\n",
    "    print('Идеальные пары: ')\n",
    "    for i in range(len(boys)):\n",
    "        print(boys[i], 'and', girls[i])\n",
    "else:\n",
    "    print('Внимание, кто-то может остаться без пары!')\n",
    "    "
   ]
  },
  {
   "cell_type": "markdown",
   "metadata": {},
   "source": [
    "Задание 4\n",
    "\n",
    "У нас есть список, содержащий информацию о среднедневной температуре в Фаренгейтах за произвольный период по странам (структура данных в примере). Необходимо написать код, который рассчитает среднюю температуру за период в Цельсиях(!) для каждой страны.\n"
   ]
  },
  {
   "cell_type": "code",
   "execution_count": 41,
   "metadata": {},
   "outputs": [],
   "source": []
  },
  {
   "cell_type": "code",
   "execution_count": 323,
   "metadata": {
    "scrolled": false
   },
   "outputs": [
    {
     "name": "stdout",
     "output_type": "stream",
     "text": [
      "Результат: \n",
      "Cредняя температура в странах:\n",
      "Thailand   -   23.9 C\n",
      "Germany   -   13.8 C\n",
      "Russia   -   3.7 C\n",
      "Poland   -   12.0 C\n"
     ]
    }
   ],
   "source": [
    "countries_temperature = [\n",
    "    ['Thailand', [75.2, 77, 78.8, 73.4, 68, 75.2, 77]],\n",
    "    ['Germany', [57.2, 55.4, 59, 59, 53.6]],\n",
    "    ['Russia', [35.6, 37.4, 39.2, 41, 42.8, 39.2, 35.6]],\n",
    "    ['Poland', [50, 50, 53.6, 57.2, 55.4, 55.4]]\n",
    "]\n",
    "\n",
    "print('Результат: \\n''Cредняя температура в странах:')\n",
    "for k in range(len(countries_temperature)):\n",
    "    t_summ = 0\n",
    "    n = 0\n",
    "    avg = 0\n",
    "    for temp in countries_temperature[k][1]:\n",
    "        n += 1\n",
    "        t_summ += temp\n",
    "        avg = round((5 /9 * (t_summ / n - 32)), 1)\n",
    "    print(countries_temperature[k][0], ' ', '-', ' ', avg, 'C')\n"
   ]
  },
  {
   "cell_type": "markdown",
   "metadata": {},
   "source": [
    "Задание 5 (необязательное)\n",
    "Дан поток логов по количеству просмотренных страниц для каждого пользователя. Вам необходимо написать алгоритм, который считает среднее значение просмотров на пользователя. Т. е. надо посчитать отношение суммы всех просмотров к количеству уникальных пользователей.\n"
   ]
  },
  {
   "cell_type": "code",
   "execution_count": 257,
   "metadata": {},
   "outputs": [],
   "source": [
    "stream = [\n",
    "    '2018-01-01,user1,3',\n",
    "    '2018-01-07,user1,4',\n",
    "    '2018-03-29,user1,1',\n",
    "    '2018-04-04,user1,13',\n",
    "    '2018-01-05,user2,7',\n",
    "    '2018-06-14,user3,4',\n",
    "    '2018-07-02,user3,10',\n",
    "    '2018-03-21,user4,19',\n",
    "    '2018-03-22,user4,4',\n",
    "    '2018-04-22,user4,8',\n",
    "    '2018-05-03,user4,9',\n",
    "    '2018-05-11,user4,11',\n",
    "]"
   ]
  },
  {
   "cell_type": "code",
   "execution_count": 325,
   "metadata": {
    "scrolled": true
   },
   "outputs": [
    {
     "name": "stdout",
     "output_type": "stream",
     "text": [
      "Результат: \n",
      "Среднее количество просмотров на уникального пользователя:  23.25\n"
     ]
    }
   ],
   "source": [
    "users = []\n",
    "summa = 0\n",
    "for rec in stream:\n",
    "    \n",
    "    tr = rec.split(',')\n",
    "    summa += int(tr[2])\n",
    "    users.append(tr[1])\n",
    "    \n",
    "num_unic_users = len(set(users))\n",
    "avg_unic_users = round(summa / num_unic_users, 2)\n",
    "\n",
    "print('Результат: \\n''Среднее количество просмотров на уникального пользователя: ', avg_unic_users)\n",
    "    \n",
    "    "
   ]
  },
  {
   "cell_type": "markdown",
   "metadata": {},
   "source": [
    "Задание 6 (необязательное)\n",
    "Необходимо у пользователя запрашивать набор чисел разделенных пробелом. В результате в отсортированном порядке должны выводиться числа, которые повторяются в вводе более одного раза.\n"
   ]
  },
  {
   "cell_type": "code",
   "execution_count": 318,
   "metadata": {},
   "outputs": [
    {
     "name": "stdout",
     "output_type": "stream",
     "text": [
      "Введите числа: \n",
      "4 8 0 3 4 2 0 3\n",
      "Результат: \n",
      "0 3 4 "
     ]
    }
   ],
   "source": [
    "numl = (input('Введите числа: \\n').split(' '))\n",
    "\n",
    "m_dict = {}\n",
    "nm = []\n",
    "\n",
    "for key in set(numl): # итерируем множество из списка numl (так как множество содержит только уникальные значения)\n",
    "    m_dict[key] = numl.count(key) # считаем кол-во каждого уникального значения в списке, записываем в словарь key - уникальные значения, values - кол-во \n",
    "\n",
    "for key,value in m_dict.items(): # перебираем словарь по ключам и значениям\n",
    "    if value > 1:\n",
    "        nm.append(int(key)) # если кол-во больше 1, то ключ записываем в список\n",
    "print('Результат: ')\n",
    "for i in sorted(nm):\n",
    "    print(i, end = ' ')\n"
   ]
  }
 ],
 "metadata": {
  "kernelspec": {
   "display_name": "Python 3",
   "language": "python",
   "name": "python3"
  },
  "language_info": {
   "codemirror_mode": {
    "name": "ipython",
    "version": 3
   },
   "file_extension": ".py",
   "mimetype": "text/x-python",
   "name": "python",
   "nbconvert_exporter": "python",
   "pygments_lexer": "ipython3",
   "version": "3.8.5"
  }
 },
 "nbformat": 4,
 "nbformat_minor": 4
}
