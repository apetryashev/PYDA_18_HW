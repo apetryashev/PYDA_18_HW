{
 "cells": [
  {
   "cell_type": "markdown",
   "metadata": {},
   "source": [
    "### Домашнее задание к лекции «Понятие класса»\n",
    "А.Петряшев (DS-28)"
   ]
  },
  {
   "cell_type": "code",
   "execution_count": 1,
   "metadata": {},
   "outputs": [],
   "source": [
    "import requests"
   ]
  },
  {
   "cell_type": "code",
   "execution_count": 2,
   "metadata": {},
   "outputs": [],
   "source": [
    "import json"
   ]
  },
  {
   "cell_type": "code",
   "execution_count": 74,
   "metadata": {},
   "outputs": [],
   "source": [
    "valute = requests.get('https://www.cbr-xml-daily.ru/daily_json.js')"
   ]
  },
  {
   "cell_type": "markdown",
   "metadata": {},
   "source": [
    "Задание 1.\n",
    "\n",
    "Напишите функцию, которая возвращает название валюты (поле ‘Name’) с максимальным значением курса с помощью сервиса https://www.cbr-xml-daily.ru/daily_json.js\n"
   ]
  },
  {
   "cell_type": "markdown",
   "metadata": {},
   "source": [
    "\n",
    "Не совсем понял, какое максимальное значение нужно получить, поэтому сделал 2 решения."
   ]
  },
  {
   "cell_type": "markdown",
   "metadata": {},
   "source": [
    "1.1.\n",
    "Максимальное значение из предыдущего и текущего курсов конкретной валюты или всех валют сервиса."
   ]
  },
  {
   "cell_type": "code",
   "execution_count": 94,
   "metadata": {
    "scrolled": true
   },
   "outputs": [
    {
     "name": "stdout",
     "output_type": "stream",
     "text": [
      "usd\n",
      "Доллар США 76.2491\n"
     ]
    }
   ],
   "source": [
    "user_input = input()\n",
    "\n",
    "def valute_max(valuta=''):\n",
    "    currency = valute.json()['Valute']\n",
    "    for val, des in currency.items():\n",
    "        if valuta != '':\n",
    "            \n",
    "            if val == valuta.upper():\n",
    "                name = des['Name']\n",
    "                max_v = max([des['Value'], des['Previous']])\n",
    "                print(name, max_v)\n",
    "            else: pass\n",
    "        else:\n",
    "            name = des['Name']\n",
    "            max_v = max([des['Value'], des['Previous']])\n",
    "            print(name, max_v)\n",
    "valute_max(user_input)"
   ]
  },
  {
   "cell_type": "markdown",
   "metadata": {},
   "source": [
    "1.2. \n",
    "Максимальное значение текущего курса валюты из всех валют сервиса."
   ]
  },
  {
   "cell_type": "code",
   "execution_count": 91,
   "metadata": {},
   "outputs": [
    {
     "name": "stdout",
     "output_type": "stream",
     "text": [
      "СДР (специальные права заимствования) 109.0321\n"
     ]
    }
   ],
   "source": [
    "def max_value():\n",
    "    cur = valute.json()['Valute']\n",
    "    all_rates ={}\n",
    "    for val, des in cur.items():\n",
    "        current_rate = des['Value']\n",
    "        val_name = des['Name']\n",
    "        all_rates[current_rate] = val_name\n",
    "    #print(all_rates)\n",
    "    max_rate = max(all_rates)\n",
    "    name = all_rates[max_rate]\n",
    "    print(name, max_rate)\n",
    "max_value()        \n",
    "        \n",
    "    "
   ]
  },
  {
   "cell_type": "markdown",
   "metadata": {},
   "source": [
    "Задание 2.\n",
    "\n",
    "Добавьте в класс Rate параметр diff (со значениями True или False), который в случае значения True в методах курсов валют (eur, usd итд) будет возвращать не курс валюты, а изменение по сравнению в прошлым значением. Считайте, self.diff будет принимать значение True только при возврате значения курса. При отображении всей информации о валюте он не используется.\n"
   ]
  },
  {
   "cell_type": "code",
   "execution_count": 105,
   "metadata": {},
   "outputs": [],
   "source": [
    "class Rate:\n",
    "    def __init__(self, format_='value', diff=True):\n",
    "        self.format = format_\n",
    "        self.diff = diff\n",
    "    def exchange_rates(self):\n",
    "        \"\"\"\n",
    "        Возвращает ответ сервиса с информацией о валютах в виде:\n",
    "        \n",
    "        {\n",
    "            'AMD': {\n",
    "                'CharCode': 'AMD',\n",
    "                'ID': 'R01060',\n",
    "                'Name': 'Армянских драмов',\n",
    "                'Nominal': 100,\n",
    "                'NumCode': '051',\n",
    "                'Previous': 14.103,\n",
    "                'Value': 14.0879\n",
    "                },\n",
    "            ...\n",
    "        }\n",
    "        \"\"\"\n",
    "        self.r = requests.get('https://www.cbr-xml-daily.ru/daily_json.js')\n",
    "        return self.r.json()['Valute']\n",
    "    \n",
    "    def make_format(self, currency):\n",
    "        \"\"\"\n",
    "        Возвращает информацию о валюте currency в вариантах:\n",
    "        - полная информация о валюте при self.format = 'full':\n",
    "        Rate('full').make_format('EUR')\n",
    "        {\n",
    "            'CharCode': 'EUR',\n",
    "            'ID': 'R01239',\n",
    "            'Name': 'Евро',\n",
    "            'Nominal': 1,\n",
    "            'NumCode': '978',\n",
    "            'Previous': 79.6765,\n",
    "            'Value': 79.4966\n",
    "        }\n",
    "        \n",
    "        Rate('value').make_format('EUR')\n",
    "        79.4966\n",
    "        \n",
    "        если diff=True - находится разница значений 'Value'-'Previous' и выводится вместо курса валюты,\n",
    "        в противном случае выводится текущий курс;\n",
    "        \n",
    "        diff не используется при выводе поной информации о валюте\n",
    "        \n",
    "        \"\"\"\n",
    "        response = self.exchange_rates()\n",
    "        \n",
    "        if currency in response:\n",
    "            if self.format == 'full':\n",
    "                return response[currency]\n",
    "            \n",
    "            if self.format == 'value':\n",
    "                if self.diff:\n",
    "                    return response[currency]['Value'] - response[currency]['Previous']\n",
    "                else:\n",
    "                    return response[currency]['Value']\n",
    "        \n",
    "        return 'Error'\n",
    "    \n",
    "    def eur(self):\n",
    "        \"\"\"Возвращает курс евро на сегодня в формате self.format\"\"\"\n",
    "        return self.make_format('EUR')\n",
    "    \n",
    "    def usd(self):\n",
    "        \"\"\"Возвращает курс доллара на сегодня в формате self.format\"\"\"\n",
    "        return self.make_format('USD')\n",
    "    \n",
    "    def brl(self):\n",
    "        \"\"\"Возвращает курс бразильского реала на сегодня в формате self.format\"\"\"\n",
    "        return self.make_format('BRL')"
   ]
  },
  {
   "cell_type": "code",
   "execution_count": 103,
   "metadata": {
    "scrolled": true
   },
   "outputs": [],
   "source": [
    "r = Rate(format_='value', diff=True)"
   ]
  },
  {
   "cell_type": "code",
   "execution_count": 104,
   "metadata": {},
   "outputs": [
    {
     "data": {
      "text/plain": [
       "0.540600000000012"
      ]
     },
     "execution_count": 104,
     "metadata": {},
     "output_type": "execute_result"
    }
   ],
   "source": [
    "r.eur()"
   ]
  },
  {
   "cell_type": "markdown",
   "metadata": {},
   "source": [
    "Задание 3.\n",
    "\n",
    "Напишите класс Designer, который учитывает количество международных премий для дизайнеров (из презентации: “Повышение на 1 грейд за каждые 7 баллов. Получение международной премии – это +2 балла”). Считайте, что при выходе на работу сотрудник уже имеет две премии и их количество не меняется со стажем (конечно если хотите это можно вручную менять).\n",
    "\n",
    "Класс Designer пишется по аналогии с классом Developer из материалов занятия. Комментарий про его условия Вика написала выше: “Повышение на 1 грейд за каждые 7 баллов. Получение международной премии – это +2 балла”"
   ]
  },
  {
   "cell_type": "code",
   "execution_count": 305,
   "metadata": {},
   "outputs": [],
   "source": [
    "class Employee:\n",
    "    def __init__(self, name, seniority):\n",
    "        self.name = name\n",
    "        self.seniority = seniority\n",
    "        \n",
    "        self.grade = 1\n",
    "    \n",
    "    def grade_up(self):\n",
    "        \"\"\"Повышает уровень сотрудника\"\"\"\n",
    "        self.grade += 1\n",
    "    \n",
    "    def publish_grade(self):\n",
    "        \"\"\"Публикация результатов аккредитации сотрудников\"\"\"\n",
    "        print(self.name, self.grade)\n",
    "    \n",
    "    def check_if_it_is_time_for_upgrade(self):\n",
    "        pass"
   ]
  },
  {
   "cell_type": "markdown",
   "metadata": {},
   "source": [
    "Для решения предположил, что премиии могут быть в любой год. \n",
    "Так как балов за премию дают 2, а повышение грейда идет за каждые 7 баллов, то постарался реализовать такую логику: \n",
    "\n",
    "количество премий в год выбирается случайно, но не более одной в год - random.randint(0,1);\n",
    "\n",
    "сначала повышается грейд за стаж, затем за балллы - учитывается накопление баллов и шкала для повышения (7, 14, 21,...)."
   ]
  },
  {
   "cell_type": "code",
   "execution_count": 109,
   "metadata": {},
   "outputs": [],
   "source": [
    "import random"
   ]
  },
  {
   "cell_type": "code",
   "execution_count": 379,
   "metadata": {},
   "outputs": [],
   "source": [
    "class Designer(Employee):\n",
    "    def __init__(self, name, seniority, raiting = 4, prom_raiting=[0]):\n",
    "        super().__init__(name, seniority)\n",
    "        \n",
    "        self.raiting = raiting\n",
    "        self.prom_raiting = prom_raiting\n",
    "    \n",
    "    def check_if_it_is_time_raiting_for_upgrade(self):\n",
    "        \"\"\"\n",
    "        prize_points = random.randint(0,1)*2 - подсчет квалификационных баллов за примемии, случайное определение кол-ва премий\n",
    "        diff = self.raiting - self.prom_raiting[-1] - разница баллов последнего повышения и текущих\n",
    "        points_for_grade = (self.raiting // 7) * 7 - баллы за которые должны повышаться грейды\n",
    "           \n",
    "        \"\"\"\n",
    "        prize_points = random.randint(0,1)*2\n",
    "        self.raiting +=prize_points\n",
    "        self.seniority += 1\n",
    "        diff = self.raiting - self.prom_raiting[-1]\n",
    "        points_for_grade = (self.raiting // 7) * 7\n",
    "        \n",
    "        if self.seniority % 5 == 0:\n",
    "            \n",
    "            self.grade_up()\n",
    "            \n",
    "        elif  diff >= 7 or self.raiting % 7 == 0:\n",
    "            self.prom_raiting.append(points_for_grade)\n",
    "            self.grade_up()\n",
    "            \n",
    "        #print('баллов за премию: ', prize_points, '//', 'всего баллов: ', self.raiting, '//', 'баллы на момент прома: ', self.prom_raiting, '//', 'разница: ', diff)\n",
    "        \n",
    "        return self.publish_grade()\n",
    "        \n",
    "        "
   ]
  },
  {
   "cell_type": "code",
   "execution_count": 377,
   "metadata": {},
   "outputs": [],
   "source": [
    "alex= Designer('alex', 0)"
   ]
  },
  {
   "cell_type": "code",
   "execution_count": 378,
   "metadata": {
    "scrolled": true
   },
   "outputs": [
    {
     "name": "stdout",
     "output_type": "stream",
     "text": [
      "баллов за премию:  0 // всего баллов:  4 // баллы на момент прома:  [0] // разница:  4\n",
      "alex 1\n",
      "баллов за премию:  2 // всего баллов:  6 // баллы на момент прома:  [0] // разница:  6\n",
      "alex 1\n",
      "баллов за премию:  0 // всего баллов:  6 // баллы на момент прома:  [0] // разница:  6\n",
      "alex 1\n",
      "баллов за премию:  0 // всего баллов:  6 // баллы на момент прома:  [0] // разница:  6\n",
      "alex 1\n",
      "баллов за премию:  2 // всего баллов:  8 // баллы на момент прома:  [0] // разница:  8\n",
      "alex 2\n",
      "баллов за премию:  0 // всего баллов:  8 // баллы на момент прома:  [0, 7] // разница:  8\n",
      "alex 3\n",
      "баллов за премию:  2 // всего баллов:  10 // баллы на момент прома:  [0, 7] // разница:  3\n",
      "alex 3\n",
      "баллов за премию:  0 // всего баллов:  10 // баллы на момент прома:  [0, 7] // разница:  3\n",
      "alex 3\n",
      "баллов за премию:  0 // всего баллов:  10 // баллы на момент прома:  [0, 7] // разница:  3\n",
      "alex 3\n",
      "баллов за премию:  2 // всего баллов:  12 // баллы на момент прома:  [0, 7] // разница:  5\n",
      "alex 4\n"
     ]
    }
   ],
   "source": [
    "for i in range(10):\n",
    "    alex.check_if_it_is_time_raiting_for_upgrade()"
   ]
  },
  {
   "cell_type": "markdown",
   "metadata": {},
   "source": [
    "такую логику использовал для повышения грейда"
   ]
  },
  {
   "cell_type": "code",
   "execution_count": 381,
   "metadata": {},
   "outputs": [
    {
     "name": "stdout",
     "output_type": "stream",
     "text": [
      "still 4\n",
      "still 6\n",
      "grade up +7points 8 overall points // 7\n",
      "still 10\n",
      "grade up +5year in company 5 year // 7\n",
      "grade up +7points 14 overall points // 14\n",
      "still 16\n",
      "still 18\n",
      "still 20\n",
      "grade up +5year in company 10 year // 21\n",
      "grade up +7points 24 overall points // 21\n",
      "still 26\n",
      "grade up +7points 28 overall points // 28\n",
      "still 30\n",
      "grade up +5year in company 15 year // 28\n",
      "still 34\n",
      "grade up +7points 36 overall points // 35\n",
      "still 38\n",
      "still 40\n",
      "grade up +5year in company 20 year // 42\n",
      "[0, 7, 14, 21, 28, 35]\n"
     ]
    }
   ],
   "source": [
    "t = 2\n",
    "k =[0]\n",
    "seniority = 0\n",
    "\n",
    "for i in range(0,20):\n",
    "   \n",
    "    seniority +=1\n",
    "  \n",
    "    t+=2 \n",
    "   \n",
    "    d = t - k[-1] #разница баллов последнего повышения и текущих\n",
    " \n",
    "    p_p = (t//7)*7 #баллы за которые должны повышаться грейды\n",
    "   \n",
    "    if seniority % 5 == 0:\n",
    "        print('grade up +5year', 'in company', seniority, 'year', '//', p_p)\n",
    "   \n",
    "    elif d >= 7 or t % 7 == 0:\n",
    "        k.append(p_p)\n",
    "        print('grade up +7points', t, 'overall points', '//', p_p)\n",
    "   \n",
    "    else: print('still', t)\n",
    "print(k)"
   ]
  }
 ],
 "metadata": {
  "kernelspec": {
   "display_name": "Python 3",
   "language": "python",
   "name": "python3"
  },
  "language_info": {
   "codemirror_mode": {
    "name": "ipython",
    "version": 3
   },
   "file_extension": ".py",
   "mimetype": "text/x-python",
   "name": "python",
   "nbconvert_exporter": "python",
   "pygments_lexer": "ipython3",
   "version": "3.8.5"
  }
 },
 "nbformat": 4,
 "nbformat_minor": 4
}
